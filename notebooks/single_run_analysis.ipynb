{
 "cells": [
  {
   "cell_type": "code",
   "execution_count": null,
   "metadata": {
    "collapsed": true
   },
   "outputs": [],
   "source": [
    "import os\n",
    "import pandas as pd\n",
    "import numpy as np\n",
    "import  seaborn as sns\n",
    "import matplotlib.pyplot as plt\n",
    "import itertools\n",
    "from matplotlib import cm\n",
    "from matplotlib.gridspec import GridSpec\n",
    "from mpl_toolkits import axes_grid1\n",
    "\n",
    "%load_ext autoreload\n",
    "\n",
    "%autoreload 2\n",
    "\n",
    "from source.plotting_utils import plot_heatmap_colorbar, plot_heatmap_histogram, visualize_feature_hist"
   ]
  },
  {
   "cell_type": "code",
   "execution_count": null,
   "outputs": [],
   "source": [
    "logdir = \"../outputs/har/interpretable/\"\n",
    "run = \"split\" # diagnosis, prognosis"
   ],
   "metadata": {
    "collapsed": false,
    "pycharm": {
     "name": "#%%\n"
    }
   }
  },
  {
   "cell_type": "code",
   "execution_count": null,
   "outputs": [],
   "source": [
    "center_weight_plots = True\n",
    "auto_scale = True\n",
    "\n",
    "def get_auto_scale(type, m, center=center_weight_plots):\n",
    "    safety = 0.25\n",
    "    if type == \"b\":\n",
    "        lim = np.abs(m).max()\n",
    "        return - (lim + safety), lim + safety\n",
    "    if type == \"w\":\n",
    "        max = np.max(m)\n",
    "        min = np.min(m)\n",
    "        if center:\n",
    "            lim = np.max(np.abs([min, max]))\n",
    "            return - (lim + safety), lim + safety\n",
    "        else:\n",
    "            lim = np.max([max - 1, 1 - min])\n",
    "            return - (lim + safety) + 1, lim + safety + 1"
   ],
   "metadata": {
    "collapsed": false,
    "pycharm": {
     "name": "#%%\n"
    }
   }
  },
  {
   "cell_type": "code",
   "execution_count": null,
   "outputs": [],
   "source": [
    "rundir = logdir + run + \"/\"\n",
    "plot_out_dir = rundir + \"weight_plots/\"\n",
    "os.makedirs(plot_out_dir, exist_ok=True)\n",
    "\n",
    "w_df = pd.read_csv(rundir + \"feature_w.csv\", index_col=0)\n",
    "b_df = pd.read_csv(rundir + \"feature_b.csv\", index_col=0)\n",
    "w = w_df.values\n",
    "b = b_df.values"
   ],
   "metadata": {
    "collapsed": false,
    "pycharm": {
     "name": "#%%\n"
    }
   }
  },
  {
   "cell_type": "code",
   "execution_count": null,
   "outputs": [],
   "source": [
    "if center_weight_plots:\n",
    "    w = w - np.mean(w, axis=0)\n",
    "    b = b - np.mean(b, axis=0)\n"
   ],
   "metadata": {
    "collapsed": false,
    "pycharm": {
     "name": "#%%\n"
    }
   }
  },
  {
   "cell_type": "code",
   "execution_count": null,
   "outputs": [],
   "source": [
    "# colorbar\n",
    "if auto_scale:\n",
    "    vmin, vmax = get_auto_scale(\"w\", w)\n",
    "else:\n",
    "    if center_weight_plots:\n",
    "        vmin, vmax = -2.0, 2.0\n",
    "    else:\n",
    "        vmin, vmax = -0.5, 2.5\n",
    "\n",
    "print(\"weight min, max:\", vmin, vmax)"
   ],
   "metadata": {
    "collapsed": false,
    "pycharm": {
     "name": "#%%\n"
    }
   }
  },
  {
   "cell_type": "code",
   "execution_count": null,
   "outputs": [],
   "source": [
    "plot_heatmap_colorbar(\n",
    "    m=w,\n",
    "    cmap=\"PuOr\", # \"PuOr\"-weights,  \"RdGy\"-bias\n",
    "    xlabels=w_df.columns,\n",
    "    ylabels=w_df.index,\n",
    "    path=plot_out_dir + \"w_cbar_centered\",\n",
    "    vmin=vmin,\n",
    "    vmax=vmax\n",
    ")"
   ],
   "metadata": {
    "collapsed": false,
    "pycharm": {
     "name": "#%%\n"
    }
   }
  },
  {
   "cell_type": "code",
   "execution_count": null,
   "outputs": [],
   "source": [
    "plot_heatmap_histogram(\n",
    "    m=w,\n",
    "    cmap=\"PuOr\", # \"PuOr\"-weights,  \"RdGy\"-bias\n",
    "    xlabels=w_df.columns,\n",
    "    ylabels=w_df.index,\n",
    "    path=plot_out_dir + \"w_hist_clean\",\n",
    "    vmin=vmin,\n",
    "    vmax=vmax\n",
    ")"
   ],
   "metadata": {
    "collapsed": false,
    "pycharm": {
     "name": "#%%\n"
    }
   }
  },
  {
   "cell_type": "code",
   "execution_count": null,
   "outputs": [],
   "source": [
    "# colorbar\n",
    "if auto_scale:\n",
    "    vmin, vmax = get_auto_scale(\"b\", b)\n",
    "else:\n",
    "    vmin, vmax = -1.0, 1.0\n",
    "\n",
    "print(\"bias min, max:\", vmin, vmax)"
   ],
   "metadata": {
    "collapsed": false,
    "pycharm": {
     "name": "#%%\n"
    }
   }
  },
  {
   "cell_type": "code",
   "execution_count": null,
   "outputs": [],
   "source": [
    "plot_heatmap_colorbar(\n",
    "    m=b,\n",
    "    cmap=\"RdGy\", # \"PuOr\"-weights,  \"RdGy\"-bias\n",
    "    xlabels=b_df.columns,\n",
    "    ylabels=b_df.index,\n",
    "    path=plot_out_dir + \"b_cbar_clean\",\n",
    "    vmin=vmin,\n",
    "    vmax=vmax\n",
    ")"
   ],
   "metadata": {
    "collapsed": false,
    "pycharm": {
     "name": "#%%\n"
    }
   }
  },
  {
   "cell_type": "code",
   "execution_count": null,
   "outputs": [],
   "source": [
    "plot_heatmap_histogram(\n",
    "    m=b,\n",
    "    cmap=\"RdGy\", # \"PuOr\"-weights,  \"RdGy\"-bias\n",
    "    xlabels=b_df.columns,\n",
    "    ylabels=b_df.index,\n",
    "    path=plot_out_dir + \"b_hist_clean\",\n",
    "    vmin=vmin,\n",
    "    vmax=vmax\n",
    ")"
   ],
   "metadata": {
    "collapsed": false,
    "pycharm": {
     "name": "#%%\n"
    }
   }
  },
  {
   "cell_type": "markdown",
   "source": [
    "# Target Layer"
   ],
   "metadata": {
    "collapsed": false,
    "pycharm": {
     "name": "#%% md\n"
    }
   }
  },
  {
   "cell_type": "code",
   "execution_count": null,
   "outputs": [],
   "source": [
    "try:\n",
    "    t_w_df = pd.read_csv(rundir + \"target_w.csv\", index_col=0)\n",
    "    t_w = t_w_df.values\n",
    "\n",
    "    if auto_scale:\n",
    "        vmin, vmax = get_auto_scale(\"w\", t_w, center=False)\n",
    "    else:\n",
    "        vmin, vmax = -0.5, 2.5\n",
    "    plot_heatmap_colorbar(\n",
    "        m=t_w,\n",
    "        cmap=\"PuOr\", # \"PuOr\"-weights,  \"RdGy\"-bias\n",
    "        xlabels=t_w_df.columns,\n",
    "        ylabels=t_w_df.index,\n",
    "        path=plot_out_dir + \"target_w_cbar\",\n",
    "        vmin=vmin,\n",
    "        vmax=vmax\n",
    "    )\n",
    "\n",
    "except:\n",
    "    print(\"no target weight found\")"
   ],
   "metadata": {
    "collapsed": false,
    "pycharm": {
     "name": "#%%\n"
    }
   }
  },
  {
   "cell_type": "code",
   "execution_count": null,
   "outputs": [],
   "source": [
    "try:\n",
    "    t_b_df = pd.read_csv(rundir + \"target_b.csv\", index_col=0)\n",
    "    t_b = t_b_df.values\n",
    "\n",
    "    # temporary\n",
    "    t_b = t_b - 1\n",
    "    # temporary\n",
    "\n",
    "    if auto_scale:\n",
    "        vmin, vmax = get_auto_scale(\"b\", t_b, center=False)\n",
    "    else:\n",
    "        vmin, vmax = -1.5, 1.5\n",
    "\n",
    "    plot_heatmap_colorbar(\n",
    "        m=t_b,\n",
    "        cmap=\"RdGy\", # \"PuOr\"-weights,  \"RdGy\"-bias\n",
    "        xlabels=t_b_df.columns,\n",
    "        ylabels=t_b_df.index,\n",
    "        path=plot_out_dir + \"target_b_cbar\",\n",
    "        vmin=vmin,\n",
    "        vmax=vmax\n",
    "    )\n",
    "\n",
    "except:\n",
    "    print(\"no target bias found\")"
   ],
   "metadata": {
    "collapsed": false,
    "pycharm": {
     "name": "#%%\n"
    }
   }
  }
 ],
 "metadata": {
  "kernelspec": {
   "display_name": "Python 3",
   "language": "python",
   "name": "python3"
  },
  "language_info": {
   "codemirror_mode": {
    "name": "ipython",
    "version": 2
   },
   "file_extension": ".py",
   "mimetype": "text/x-python",
   "name": "python",
   "nbconvert_exporter": "python",
   "pygments_lexer": "ipython2",
   "version": "2.7.6"
  }
 },
 "nbformat": 4,
 "nbformat_minor": 0
}